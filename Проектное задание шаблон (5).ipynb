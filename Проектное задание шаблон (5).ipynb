{
 "cells": [
  {
   "cell_type": "markdown",
   "metadata": {
    "id": "R-PJzM_fWCB-"
   },
   "source": [
    "# 1. Описание набора данных, Постановка задачи, Описание выбранного классификатора\n",
    "\n",
    "\n",
    "\n",
    "## Набор данных\n",
    "\n",
    "\n",
    "## Постановка задачи\n",
    "\n",
    "\n",
    "## Описание классификатора\n"
   ]
  },
  {
   "cell_type": "markdown",
   "metadata": {},
   "source": [
    "## 2. Чтение данных"
   ]
  },
  {
   "cell_type": "code",
   "execution_count": null,
   "metadata": {
    "id": "UXmCE0CDWmKV"
   },
   "outputs": [],
   "source": [
    "# Подключаем библиотеки\n"
   ]
  },
  {
   "cell_type": "code",
   "execution_count": null,
   "metadata": {
    "colab": {
     "base_uri": "https://localhost:8080/",
     "height": 206
    },
    "id": "s0rGanDwXhJ-",
    "outputId": "dd0cff84-309d-4c3e-cbe8-9155b1ec73dc"
   },
   "outputs": [],
   "source": [
    "# читаем данные\n"
   ]
  },
  {
   "cell_type": "markdown",
   "metadata": {},
   "source": [
    "## 3. Характеристики набора данных и визуализация"
   ]
  },
  {
   "cell_type": "code",
   "execution_count": null,
   "metadata": {
    "colab": {
     "base_uri": "https://localhost:8080/"
    },
    "id": "al6FXVsYat6n",
    "outputId": "d802326f-db41-4e06-fec5-aac5767a24eb"
   },
   "outputs": [],
   "source": [
    "# типы полей\n"
   ]
  },
  {
   "cell_type": "code",
   "execution_count": null,
   "metadata": {
    "colab": {
     "base_uri": "https://localhost:8080/",
     "height": 300
    },
    "id": "a0AtCnULawof",
    "outputId": "d32a26c1-d505-4563-cdb0-245b443026ea"
   },
   "outputs": [],
   "source": [
    "# Описательная статистика, применяется для числовых полей\n",
    "\n"
   ]
  },
  {
   "cell_type": "code",
   "execution_count": null,
   "metadata": {
    "colab": {
     "base_uri": "https://localhost:8080/"
    },
    "id": "wXQNzR0sa9X1",
    "outputId": "afd1ea54-6c88-4b2f-eae5-7e8710ef122f"
   },
   "outputs": [],
   "source": [
    "# количество объектов каждого класса\n"
   ]
  },
  {
   "cell_type": "code",
   "execution_count": null,
   "metadata": {
    "colab": {
     "base_uri": "https://localhost:8080/",
     "height": 300
    },
    "id": "_J6g0MIJbOf-",
    "outputId": "2f319156-cceb-4c7c-eb1b-b9f6cc3e9d2d"
   },
   "outputs": [],
   "source": [
    "# создадим точечную диаграмму \n"
   ]
  },
  {
   "cell_type": "code",
   "execution_count": null,
   "metadata": {
    "colab": {
     "base_uri": "https://localhost:8080/",
     "height": 299
    },
    "id": "zDwRPDHycT2X",
    "outputId": "a7d8d770-4ad9-45bf-f71e-c1941226063e"
   },
   "outputs": [],
   "source": [
    "# Гистограммы по каждому параметру\n"
   ]
  },
  {
   "cell_type": "markdown",
   "metadata": {},
   "source": [
    "## 4. Разделение выборки"
   ]
  },
  {
   "cell_type": "code",
   "execution_count": null,
   "metadata": {
    "id": "F6rRqP1yggi2"
   },
   "outputs": [],
   "source": [
    "# Разделим выборку на обучающую и тестовую\n",
    "\n",
    "# Выделим признаки и целевую переменную в каждой части\n"
   ]
  },
  {
   "cell_type": "markdown",
   "metadata": {},
   "source": [
    "## 5. Создание модели машинного обучения"
   ]
  },
  {
   "cell_type": "code",
   "execution_count": 16,
   "metadata": {
    "colab": {
     "base_uri": "https://localhost:8080/",
     "height": 553
    },
    "id": "q0GpLRYyhDnZ",
    "outputId": "a2b96a9c-06e0-4111-e94f-baaff0e5aa4d",
    "scrolled": true
   },
   "outputs": [],
   "source": [
    "\n",
    "#Выбираем классификатор\n",
    "\n",
    "#Проводим обучение\n",
    "\n"
   ]
  },
  {
   "cell_type": "markdown",
   "metadata": {},
   "source": [
    "## 6. Оценка качества модели машинного обучения"
   ]
  },
  {
   "cell_type": "code",
   "execution_count": null,
   "metadata": {},
   "outputs": [],
   "source": [
    "#Выполняем предсказание\n",
    "\n",
    "\n",
    "# матрица ошибок\n"
   ]
  },
  {
   "cell_type": "markdown",
   "metadata": {},
   "source": [
    "## 7. Применение построенной модели машинного обучения"
   ]
  },
  {
   "cell_type": "code",
   "execution_count": 17,
   "metadata": {},
   "outputs": [],
   "source": [
    "# Тестовые данные и полученный класс"
   ]
  }
 ],
 "metadata": {
  "colab": {
   "provenance": []
  },
  "kernelspec": {
   "display_name": "Python 3 (ipykernel)",
   "language": "python",
   "name": "python3"
  },
  "language_info": {
   "codemirror_mode": {
    "name": "ipython",
    "version": 3
   },
   "file_extension": ".py",
   "mimetype": "text/x-python",
   "name": "python",
   "nbconvert_exporter": "python",
   "pygments_lexer": "ipython3",
   "version": "3.9.13"
  }
 },
 "nbformat": 4,
 "nbformat_minor": 1
}
